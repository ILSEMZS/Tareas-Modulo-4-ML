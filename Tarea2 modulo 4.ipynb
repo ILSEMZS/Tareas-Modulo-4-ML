{
 "cells": [
  {
   "cell_type": "raw",
   "metadata": {},
   "source": [
    "\n",
    "#Ejercicio\n",
    "\n",
    "Entrena y calibra un árbol de decisión para la base de datos moons\n",
    "Genera una base de datos usando make_moons(n_samples=10_000, noise=0.4, random_state=25) (la función se importa desde sklearn.datasets)\n",
    "Divide entre train y test set usando train_test_split\n",
    "Realiza una búsqueda con cross-validation para encontrar hiperparámetros que mejoren un modelo de DecisionTreeClassifier. Comenta tus resultados y lo que encontró el modelo"
   ]
  },
  {
   "cell_type": "code",
   "execution_count": 1,
   "metadata": {},
   "outputs": [],
   "source": [
    "from sklearn.datasets import make_moons\n",
    "import pandas as pd\n",
    "import numpy as np\n",
    "import matplotlib.pyplot as plt\n",
    "from io import StringIO\n",
    "from sklearn.datasets import load_iris\n",
    "from sklearn.tree import DecisionTreeClassifier, export_graphviz, plot_tree\n",
    "from sklearn.pipeline import Pipeline\n",
    "from sklearn.compose import ColumnTransformer\n",
    "from sklearn.preprocessing import OneHotEncoder\n",
    "from sklearn.model_selection import cross_validate\n",
    "from sklearn.model_selection import train_test_split"
   ]
  },
  {
   "cell_type": "code",
   "execution_count": 2,
   "metadata": {},
   "outputs": [],
   "source": [
    "x=make_moons(n_samples=10_000, noise=0.4, random_state=25)[0]\n",
    "y=make_moons(n_samples=10_000, noise=0.4, random_state=25)[1]"
   ]
  },
  {
   "cell_type": "code",
   "execution_count": 3,
   "metadata": {},
   "outputs": [],
   "source": [
    "x_train=train_test_split(x,y)[0]\n",
    "x_test=train_test_split(x,y)[1]\n",
    "y_train=train_test_split(x,y)[2]\n",
    "y_test=train_test_split(x,y)[3]"
   ]
  },
  {
   "cell_type": "markdown",
   "metadata": {},
   "source": [
    "hare dos casos con entropy y con gini\n",
    "\n",
    "en ambos casos movere el hiperparametro max_depth\n",
    "\n",
    "\n",
    "para ver como reacciona el accuracy"
   ]
  },
  {
   "cell_type": "code",
   "execution_count": 4,
   "metadata": {},
   "outputs": [],
   "source": [
    "#probare entropy primero , fijo random state igual en ambos ejercicios\n",
    "pipe = Pipeline([\n",
    "    (\"tree\", DecisionTreeClassifier(criterion=\"entropy\", random_state=2205))\n",
    "])"
   ]
  },
  {
   "cell_type": "code",
   "execution_count": 5,
   "metadata": {},
   "outputs": [],
   "source": [
    "# decidi dejar accuraccy como parametro para decidir si el modelo mejora o empeora\n",
    "pipe.fit(x_train, y_train);\n",
    "cross=cross_validate(pipe, x, y, cv=5, scoring=[\"accuracy\"])\n",
    "accuracy=cross[\"test_accuracy\"]"
   ]
  },
  {
   "cell_type": "code",
   "execution_count": 6,
   "metadata": {},
   "outputs": [
    {
     "data": {
      "text/plain": [
       "0.8041"
      ]
     },
     "execution_count": 6,
     "metadata": {},
     "output_type": "execute_result"
    }
   ],
   "source": [
    "#Como referencia, este accuracy tendria por default sin modoficar el hiper parametro max_depth\n",
    "base_accura=accuracy.mean()\n",
    "base_accura"
   ]
  },
  {
   "cell_type": "code",
   "execution_count": 7,
   "metadata": {},
   "outputs": [],
   "source": [
    "#movere max_depth wn un rango de 1 a 99\n",
    "acc=[]\n",
    "for i in range(1,100):\n",
    "    depth=i\n",
    "    pipe_d = Pipeline([\n",
    "        (\"tree\", DecisionTreeClassifier(criterion=\"entropy\",max_depth=depth, random_state=314))\n",
    "    ])\n",
    "    pipe_d.fit(x_train, y_train);\n",
    "    cross=cross_validate(pipe_d, x, y, cv=5, scoring=[\"accuracy\"])\n",
    "    acc=acc+[cross[\"test_accuracy\"].mean()]"
   ]
  },
  {
   "cell_type": "markdown",
   "metadata": {},
   "source": [
    "En la grafica podemos observar que al agregar demasiada profundidad decae el accuracy, el maximo se lacanza en :"
   ]
  },
  {
   "cell_type": "code",
   "execution_count": 8,
   "metadata": {},
   "outputs": [
    {
     "data": {
      "text/plain": [
       "6"
      ]
     },
     "execution_count": 8,
     "metadata": {},
     "output_type": "execute_result"
    }
   ],
   "source": [
    "#en depth\n",
    "acc.index(max(acc))"
   ]
  },
  {
   "cell_type": "markdown",
   "metadata": {},
   "source": [
    "con un valor de :"
   ]
  },
  {
   "cell_type": "code",
   "execution_count": 9,
   "metadata": {},
   "outputs": [
    {
     "data": {
      "text/plain": [
       "0.8608"
      ]
     },
     "execution_count": 9,
     "metadata": {},
     "output_type": "execute_result"
    }
   ],
   "source": [
    "#acc maximo\n",
    "max(acc)\n"
   ]
  },
  {
   "cell_type": "code",
   "execution_count": 10,
   "metadata": {},
   "outputs": [
    {
     "data": {
      "image/png": "[encoded data removed]",
      "text/plain": [
       "<Figure size 432x288 with 1 Axes>"
      ]
     },
     "metadata": {
      "needs_background": "light"
     },
     "output_type": "display_data"
    }
   ],
   "source": [
    "plt.plot(range(1,100), acc);"
   ]
  },
  {
   "cell_type": "markdown",
   "metadata": {},
   "source": [
    "Ahora el mismo ejercicio pero con gini el cual es el parametro default de DecisionTreeClassifier"
   ]
  },
  {
   "cell_type": "code",
   "execution_count": 12,
   "metadata": {},
   "outputs": [],
   "source": [
    "acc2=[]\n",
    "for i in range(1,100):\n",
    "    depth=i\n",
    "    pipe_d2 = Pipeline([\n",
    "        (\"tree\", DecisionTreeClassifier(max_depth=depth, random_state=2205))\n",
    "    ])\n",
    "    pipe_d2.fit(x_train, y_train);\n",
    "    cross=cross_validate(pipe_d2, x, y, cv=5, scoring=[\"accuracy\"])\n",
    "    acc2=acc2+[cross[\"test_accuracy\"].mean()]"
   ]
  },
  {
   "cell_type": "markdown",
   "metadata": {},
   "source": [
    "En la grafica podemos observar que al agregar demasiada profundidad decae el accuracy, el maximo se lacanza en :"
   ]
  },
  {
   "cell_type": "code",
   "execution_count": 13,
   "metadata": {},
   "outputs": [
    {
     "data": {
      "text/plain": [
       "6"
      ]
     },
     "execution_count": 13,
     "metadata": {},
     "output_type": "execute_result"
    }
   ],
   "source": [
    "#en depth\n",
    "acc2.index(max(acc2))"
   ]
  },
  {
   "cell_type": "markdown",
   "metadata": {},
   "source": [
    "con un valor de :"
   ]
  },
  {
   "cell_type": "code",
   "execution_count": 14,
   "metadata": {},
   "outputs": [
    {
     "data": {
      "text/plain": [
       "0.8583999999999999"
      ]
     },
     "execution_count": 14,
     "metadata": {},
     "output_type": "execute_result"
    }
   ],
   "source": [
    "#acc maximo\n",
    "max(acc2)\n"
   ]
  },
  {
   "cell_type": "code",
   "execution_count": 15,
   "metadata": {},
   "outputs": [
    {
     "data": {
      "image/png": "[encoded data removed]",
      "text/plain": [
       "<Figure size 432x288 with 1 Axes>"
      ]
     },
     "metadata": {
      "needs_background": "light"
     },
     "output_type": "display_data"
    }
   ],
   "source": [
    "plt.plot(range(1,100), acc);"
   ]
  },
  {
   "cell_type": "markdown",
   "metadata": {},
   "source": [
    "podemos notar que apesar de alcanzar el maximo en la misma profundidad obtenemos ligeramente un mejor accuracy con entropy"
   ]
  }
 ],
 "metadata": {
  "kernelspec": {
   "display_name": "Python 3",
   "language": "python",
   "name": "python3"
  },
  "language_info": {
   "codemirror_mode": {
    "name": "ipython",
    "version": 3
   },
   "file_extension": ".py",
   "mimetype": "text/x-python",
   "name": "python",
   "nbconvert_exporter": "python",
   "pygments_lexer": "ipython3",
   "version": "3.7.3"
  }
 },
 "nbformat": 4,
 "nbformat_minor": 2
}
