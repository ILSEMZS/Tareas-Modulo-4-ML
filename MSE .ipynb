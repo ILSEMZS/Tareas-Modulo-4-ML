{
 "cells": [
  {
   "cell_type": "markdown",
   "metadata": {},
   "source": [
    "# MSE loss function"
   ]
  },
  {
   "cell_type": "markdown",
   "metadata": {},
   "source": [
    "Pd.\n",
    "\n",
    "$$\n",
    "E[L]=\\int ( (y-E[\\hat{f}(x)])^2 + var[\\hat{f}(x)] ) p(x) dx\n",
    "$$ "
   ]
  },
  {
   "cell_type": "markdown",
   "metadata": {},
   "source": [
    "Dem.\n",
    "\n",
    "\n",
    "Asumiendo que existe una funcion:\n",
    "$$    y=f(x)+ \\epsilon $$\n",
    "con :\n",
    "\n",
    "$ \\epsilon= ruido $ con media cero y  varianza $  \\sigma ^2 $\n",
    "\n",
    "y\n",
    "\n",
    "$ \\hat{f}(x)$ es la funcion que aproxima $f(x)$\n",
    "\n",
    "Primero desarrollamos $L$ :\n",
    "\\begin{align*}\n",
    "L&=E[(y- \\hat{f}(x))^2] = E[(f(x) - \\epsilon - \\hat{f}(x))^2]\\\\\n",
    "&= E[(f(x) - \\epsilon - \\hat{f}(x) + E[\\hat{f}(x)] -E[\\hat{f}(x)])^2 ]\n",
    "\\end{align*}\n",
    "Desarrollando el cuadrado considerando como terminos:  $  (f(x) - E[\\hat{f}(x)]) + (E[\\hat{f}(x)] - \\hat{f}(x))-\\epsilon$   y por la propiedad lineal de la esperanza obtenemos :\n",
    "\n",
    "\\begin{align*}\n",
    "&= (f(x) - E[\\hat{f}(x)])^2 + E[(E[\\hat{f}(x)] + \\hat{f}(x))^2]-E[\\epsilon ^2] \\\\\n",
    "&+2E[(f(x) - E[\\hat{f}(x)])* \\epsilon]+2E[(E[\\hat{f}(x)] - \\hat{f}(x))*\\epsilon]\\\\\n",
    "&+2 E[(E[\\hat{f}(x)] - \\hat{f}(x))* (f(x) - E[\\hat{f}(x)])] \\\\       \n",
    "&=(f(x) - E[\\hat{f}(x)])^2 + E[(E[\\hat{f}(x)] + \\hat{f}(x))^2]-E[\\epsilon ^2] +2(f(x) - E[\\hat{f}(x)])E[\\epsilon] + 2 E[\\epsilon] E[(E[\\hat{f}(x)]-  \\hat{f}(x)]+2 E[E[\\hat{f}(x)] - \\hat{f}(x)] (f(x) - E[\\hat{f}(x)]) \n",
    "\\end{align*}\n",
    "\n",
    "Notemos que los ultimos tres termonos se eliminan pues $E[\\epsilon]=0 $ y $ (f(x) - E[\\hat{f}(x)])=0 $\n",
    "\n",
    "\\begin{align*}\n",
    "&=(f(x) - E[\\hat{f}(x)])^2 + E[(E[\\hat{f}(x)] + \\hat{f}(x))^2]-E[\\epsilon ^2]\\\\ \n",
    "&=(f(x) - E[\\hat{f}(x)])^2 + Var(y)+ Var(\\hat{f}(x))\\\\\n",
    "& *Recordemos \\quad E[\\epsilon]=0 \\quad y=f(x)+ \\epsilon\\\\\n",
    "&=(f(x)+E[\\epsilon] - E[\\hat{f}(x)])^2 + \\sigma ^2 + Var(\\hat{f}(x))\\\\\n",
    "&=(y - E[\\hat{f}(x)])^2 + \\sigma ^2 + Var(\\hat{f}(x))\n",
    "\\end{align*}\n",
    "\n",
    "Ahora consideramos el valor esperados sobre x, es decir $E[L]$:\n",
    "\n",
    "$$\n",
    "E[L]=E[(y - E[\\hat{f}(x)])^2 + \\sigma ^2 + Var(\\hat{f}(x))]=\\int ( (y-E[\\hat{f}(x)])^2 + var[\\hat{f}(x)] ) p(x) dx +  \\sigma ^2\n",
    "$$ \n",
    "\n",
    "Como queriamos."
   ]
  },
  {
   "cell_type": "code",
   "execution_count": null,
   "metadata": {},
   "outputs": [],
   "source": []
  }
 ],
 "metadata": {
  "kernelspec": {
   "display_name": "Python 3",
   "language": "python",
   "name": "python3"
  },
  "language_info": {
   "codemirror_mode": {
    "name": "ipython",
    "version": 3
   },
   "file_extension": ".py",
   "mimetype": "text/x-python",
   "name": "python",
   "nbconvert_exporter": "python",
   "pygments_lexer": "ipython3",
   "version": "3.7.3"
  }
 },
 "nbformat": 4,
 "nbformat_minor": 2
}
